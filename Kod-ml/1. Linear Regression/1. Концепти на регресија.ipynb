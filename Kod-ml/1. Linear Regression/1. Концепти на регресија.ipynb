{
 "cells": [
  {
   "cell_type": "code",
   "execution_count": null,
   "metadata": {},
   "outputs": [],
   "source": [
    "import numpy as np\n",
    "import sympy as sym"
   ]
  },
  {
   "cell_type": "code",
   "execution_count": null,
   "metadata": {},
   "outputs": [],
   "source": [
    "import matplotlib.pyplot as plt\n",
    "%matplotlib inline"
   ]
  },
  {
   "cell_type": "markdown",
   "metadata": {},
   "source": [
    "# Визуелизација на спуштање по градиент "
   ]
  },
  {
   "cell_type": "code",
   "execution_count": null,
   "metadata": {},
   "outputs": [],
   "source": [
    "X = np.random.random(20)\n",
    "error = np.random.normal(0, 0.9, 20)\n",
    "y = 3*X + error"
   ]
  },
  {
   "cell_type": "code",
   "execution_count": null,
   "metadata": {},
   "outputs": [],
   "source": [
    "X, y"
   ]
  },
  {
   "cell_type": "code",
   "execution_count": null,
   "metadata": {},
   "outputs": [],
   "source": [
    "plt.scatter(X, y)\n",
    "plt.grid()\n",
    "plt.show"
   ]
  },
  {
   "cell_type": "code",
   "execution_count": null,
   "metadata": {},
   "outputs": [],
   "source": [
    "x, theta_1 = sym.symbols('x, theta_1')\n",
    "temp_list = y.shape[0]*[theta_1*x]\n",
    "temp_list = [temp.subs(x, X[i]) for i, temp in enumerate(temp_list)]\n",
    "ar = sym.Array([y.tolist(), temp_list])\n",
    "J = ar[0, :] - ar[1, :]\n",
    "J = sum(J)\n",
    "J = J**2\n",
    "J_deriv = sym.diff(J, theta_1)\n",
    "theta_1_optimal = float(sym.solvers.solve(J_deriv)[0])\n",
    "print(\"Cost f_costunction: \", J, \"\\nDerivative of_cost cost f_costunction: \", J_deriv)"
   ]
  },
  {
   "cell_type": "code",
   "execution_count": null,
   "metadata": {},
   "outputs": [],
   "source": [
    "theta_1_trial = -1\n",
    "deriv = J_deriv.subs(theta_1, theta_1_trial)\n",
    "i = 0\n",
    "theta_1_range = np.linspace(-2, 8, 100)\n",
    "J_range = [J.subs(theta_1, theta_1_range[i]) for i, temp in enumerate(theta_1_range)]\n",
    "iterations = 20\n",
    "alpha = 0.005 # 0.005, 0.001, 0.01\n",
    "\n",
    "while i < iterations:\n",
    "    print(\"Iteration: \", i+1, \"\\nCost function value: \", J.subs(theta_1, theta_1_trial), \"\\nCost function derivative value: \", deriv, \"\\ntheta_1 value: \", theta_1_trial)\n",
    "    plt.subplot(121)\n",
    "    plt.scatter(X, y)\n",
    "    plt.plot(X, X*theta_1_trial, c='r')\n",
    "    \n",
    "    plt.subplot(122)\n",
    "    plt.plot(theta_1_range, J_range)\n",
    "    plt.scatter(theta_1_trial, float(J.subs(theta_1, theta_1_trial)), c='r')\n",
    "    plt.show()\n",
    "    \n",
    "    theta_1_trial = theta_1_trial - alpha*deriv\n",
    "    deriv = J_deriv.subs(theta_1, theta_1_trial)\n",
    "    i += 1\n"
   ]
  },
  {
   "cell_type": "markdown",
   "metadata": {},
   "source": [
    "# Полиномна регресија"
   ]
  },
  {
   "cell_type": "code",
   "execution_count": 15,
   "metadata": {},
   "outputs": [],
   "source": [
    "def computeCost(X, y, theta):           # calculate cost function value\n",
    "    inner = np.power(((X * theta.T) - y), 2)\n",
    "    return np.sum(inner) / (2 * len(X))\n",
    "\n",
    "def gradientDescent(X, y, theta, alpha, iters):\n",
    "    temp = np.matrix(np.zeros(theta.shape))\n",
    "    parameters = int(theta.ravel().shape[1])\n",
    "    cost = np.zeros(iters)\n",
    "    \n",
    "    for i in range(iters):              # in every iteration\n",
    "        error = (X * theta.T) - y       # compute the error\n",
    "        \n",
    "        for j in range(parameters):     # for every parameter update the value\n",
    "            term = np.multiply(error, X[:,j])\n",
    "            temp[0,j] = theta[0,j] - ((alpha / len(X)) * np.sum(term))\n",
    "            \n",
    "        theta = temp\n",
    "        cost[i] = computeCost(X, y, theta)\n",
    "        \n",
    "    return theta, cost                  # returns theta vector and history of the cost value"
   ]
  },
  {
   "cell_type": "code",
   "execution_count": 20,
   "metadata": {},
   "outputs": [],
   "source": [
    "m = 100\n",
    "X = -2*np.random.random(m) + 2*np.random.random(m)\n",
    "y = 3*X**3 + 5*X**2 + 10 + np.random.normal(0, 1, m)"
   ]
  },
  {
   "cell_type": "code",
   "execution_count": 21,
   "metadata": {},
   "outputs": [
    {
     "data": {
      "text/plain": [
       "<matplotlib.collections.PathCollection at 0x218eb78aa08>"
      ]
     },
     "execution_count": 21,
     "metadata": {},
     "output_type": "execute_result"
    },
    {
     "data": {
      "image/png": "[encoded data removed]",
      "text/plain": [
       "<Figure size 432x288 with 1 Axes>"
      ]
     },
     "metadata": {
      "needs_background": "light"
     },
     "output_type": "display_data"
    }
   ],
   "source": [
    "plt.scatter(X, y)"
   ]
  },
  {
   "cell_type": "code",
   "execution_count": 26,
   "metadata": {},
   "outputs": [],
   "source": [
    "X_novo = np.vstack((X**3, X**2, X, np.ones(m))).T\n",
    "theta, cost = gradientDescent(np.matrix(X_novo), np.matrix(y).T, np.matrix(np.array([1, 1, 1, 1])), 0.1, 1000)"
   ]
  },
  {
   "cell_type": "code",
   "execution_count": 28,
   "metadata": {},
   "outputs": [
    {
     "data": {
      "text/plain": [
       "matrix([[ 3.06704894,  4.97590088, -0.14986763, 10.07355888]])"
      ]
     },
     "execution_count": 28,
     "metadata": {},
     "output_type": "execute_result"
    }
   ],
   "source": [
    "theta"
   ]
  },
  {
   "cell_type": "code",
   "execution_count": 32,
   "metadata": {},
   "outputs": [
    {
     "data": {
      "text/plain": [
       "[<matplotlib.lines.Line2D at 0x218ea18f708>]"
      ]
     },
     "execution_count": 32,
     "metadata": {},
     "output_type": "execute_result"
    },
    {
     "data": {
      "image/png": "[encoded data removed]",
      "text/plain": [
       "<Figure size 432x288 with 1 Axes>"
      ]
     },
     "metadata": {
      "needs_background": "light"
     },
     "output_type": "display_data"
    }
   ],
   "source": [
    "plt.scatter(X, y)\n",
    "x_range = np.linspace(-2, 2, 100)\n",
    "x_novo = np.vstack((x_range**3, x_range**2, x_range, np.ones(m))).T\n",
    "y_predict = np.ravel(x_novo.dot(theta.T))\n",
    "plt.plot(x_range, y_predict, 'r')"
   ]
  },
  {
   "cell_type": "markdown",
   "metadata": {},
   "source": [
    "# Нормализација на податочно множество"
   ]
  },
  {
   "cell_type": "code",
   "execution_count": 2,
   "metadata": {},
   "outputs": [],
   "source": [
    "def gradientDescent(X, y, theta, alpha, iters):\n",
    "    temp = theta\n",
    "    for i in range(iters):              # in every iteration\n",
    "        temp = (temp - alpha*X.T.dot((X.dot(temp)) - y))\n",
    "        yield temp"
   ]
  },
  {
   "cell_type": "code",
   "execution_count": 3,
   "metadata": {},
   "outputs": [],
   "source": [
    "from sklearn.preprocessing import StandardScaler\n",
    "sc = StandardScaler()\n",
    "m = 100\n",
    "x1 = np.random.rand(m, 1)*2\n",
    "x2 = np.random.rand(m, 1)\n",
    "X = np.hstack((x1, x2, np.ones((m, 1))))\n",
    "#X = sc.fit_transform(X)\n",
    "theta_real = np.array([[2, 3, 1]]).T\n",
    "y = X.dot(theta_real) + np.random.normal(0, 0.2, m).reshape(m, 1)"
   ]
  },
  {
   "cell_type": "markdown",
   "metadata": {},
   "source": [
    "### Визуелизација без нормализација на податоците"
   ]
  },
  {
   "cell_type": "code",
   "execution_count": 4,
   "metadata": {},
   "outputs": [
    {
     "data": {
      "image/png": "[encoded data removed]",
      "text/plain": [
       "<Figure size 432x288 with 1 Axes>"
      ]
     },
     "metadata": {
      "needs_background": "light"
     },
     "output_type": "display_data"
    }
   ],
   "source": [
    "mx = 500\n",
    "my = 500\n",
    "theta1 = np.linspace(-100, 100, mx)\n",
    "theta2 = np.linspace(-100, 100, my)\n",
    "Theta1, Theta2 = np.meshgrid(theta1, theta2)\n",
    "J = np.zeros((mx, my))\n",
    "for i in range(mx):\n",
    "    for j in range(my):\n",
    "        pom = np.array([[Theta1[i, j], Theta2[i, j], 1]]).T\n",
    "        J[i, j] = (1/(2*m)*(X.dot(pom) - y).T.dot(X.dot(pom) - y))[0, 0]\n",
    "plt.contourf(Theta1, Theta2, np.array(J))\n",
    "for th in gradientDescent(np.matrix(X), np.matrix(y), 10*np.matrix(np.array([[10, 10, 1]]).T), 2e-3, 100):\n",
    "    plt.scatter(th[1, 0], th[2, 0], marker='x', c='r')"
   ]
  },
  {
   "cell_type": "markdown",
   "metadata": {},
   "source": [
    "### Визуелизација со нормализација на податоците"
   ]
  },
  {
   "cell_type": "code",
   "execution_count": 8,
   "metadata": {},
   "outputs": [],
   "source": [
    "from sklearn.preprocessing import StandardScaler\n",
    "sc = StandardScaler()\n",
    "m = 100\n",
    "x1 = np.random.rand(m, 1)*2\n",
    "x2 = np.random.rand(m, 1)\n",
    "X = np.hstack((x1, x2, np.ones((m, 1))))\n",
    "X = sc.fit_transform(X)\n",
    "theta_real = np.array([[2, 3, 1]]).T\n",
    "y = X.dot(theta_real) + np.random.normal(0, 0.2, m).reshape(m, 1)"
   ]
  },
  {
   "cell_type": "code",
   "execution_count": 9,
   "metadata": {},
   "outputs": [
    {
     "data": {
      "image/png": "[encoded data removed]",
      "text/plain": [
       "<Figure size 432x288 with 1 Axes>"
      ]
     },
     "metadata": {
      "needs_background": "light"
     },
     "output_type": "display_data"
    }
   ],
   "source": [
    "mx = 500\n",
    "my = 500\n",
    "theta1 = np.linspace(-100, 100, mx)\n",
    "theta2 = np.linspace(-100, 100, my)\n",
    "Theta1, Theta2 = np.meshgrid(theta1, theta2)\n",
    "J = np.zeros((mx, my))\n",
    "for i in range(mx):\n",
    "    for j in range(my):\n",
    "        pom = np.array([[Theta1[i, j], Theta2[i, j], 1]]).T\n",
    "        J[i, j] = (1/(2*m)*(X.dot(pom) - y).T.dot(X.dot(pom) - y))[0, 0]\n",
    "plt.contourf(Theta1, Theta2, np.array(J))\n",
    "for th in gradientDescent(np.matrix(X), np.matrix(y), 10*np.matrix(np.array([[10, 10, 1]]).T), 2e-3, 100):\n",
    "    plt.scatter(th[1, 0], th[2, 0], marker='x', c='r')"
   ]
  }
 ],
 "metadata": {
  "kernelspec": {
   "display_name": "Python 3 (ipykernel)",
   "language": "python",
   "name": "python3"
  },
  "language_info": {
   "codemirror_mode": {
    "name": "ipython",
    "version": 3
   },
   "file_extension": ".py",
   "mimetype": "text/x-python",
   "name": "python",
   "nbconvert_exporter": "python",
   "pygments_lexer": "ipython3",
   "version": "3.10.6"
  }
 },
 "nbformat": 4,
 "nbformat_minor": 4
}
